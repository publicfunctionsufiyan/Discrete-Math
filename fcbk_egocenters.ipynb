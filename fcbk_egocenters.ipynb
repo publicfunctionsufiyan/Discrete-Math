{
 "cells": [
  {
   "cell_type": "code",
   "execution_count": 63,
   "metadata": {},
   "outputs": [],
   "source": [
    "import networkx as nx\n",
    "import matplotlib.pyplot as plt"
   ]
  },
  {
   "cell_type": "code",
   "execution_count": 64,
   "metadata": {},
   "outputs": [
    {
     "name": "stdout",
     "output_type": "stream",
     "text": [
      "Name: \n",
      "Type: Graph\n",
      "Number of nodes: 4039\n",
      "Number of edges: 88234\n",
      "Average degree:  43.6910\n"
     ]
    }
   ],
   "source": [
    "import networkx as nx\n",
    "from random import random\n",
    "G_fb = nx.read_edgelist(\"facebook_combined.txt\", create_using = nx.Graph(), nodetype = int)\n",
    "print (nx.info(G_fb))"
   ]
  },
  {
   "cell_type": "code",
   "execution_count": 77,
   "metadata": {},
   "outputs": [
    {
     "name": "stdout",
     "output_type": "stream",
     "text": [
      "612\n"
     ]
    }
   ],
   "source": [
    "import networkx as nx \n",
    " \n",
    " \n",
    "G = nx.Graph() \n",
    " \n",
    "edgelist=nx.read_edgelist('facebook_combined.txt', create_using=nx.Graph(), nodetype=int) \n",
    " \n",
    "pseudocenters = [ 0, 107, 1684, 1912, 3437, 348, 612, 3980, 414, 686, 698 ] \n",
    " \n",
    "edgelist=edgelist.edges \n",
    " \n",
    "def degreeofEachNode(edgelist, pseudocenters): \n",
    "    list={} \n",
    "    for x,y in edgelist: \n",
    "        if x not in list: \n",
    "            list[x]=1 \n",
    "        elif x in list: \n",
    "            list[x]=1+list[x] \n",
    "    return list \n",
    " \n",
    "def find_impostor(edgelist, pseudocenters): \n",
    "    nodes=degreeofEachNode(edgelist, pseudocenters) \n",
    "    result=[] \n",
    "    for res in pseudocenters: \n",
    "        result.append((res, nodes[res])) \n",
    "    result = sorted(result, key = lambda y: y[1]) \n",
    "    return result[0][0] \n",
    " \n",
    "print(find_impostor(edgelist, pseudocenters))"
   ]
  },
  {
   "cell_type": "code",
   "execution_count": 2,
   "metadata": {},
   "outputs": [
    {
     "data": {
      "text/plain": [
       "612"
      ]
     },
     "execution_count": 2,
     "metadata": {},
     "output_type": "execute_result"
    }
   ],
   "source": [
    "import networkx as nx \n",
    " \n",
    "G=nx.Graph() \n",
    "edgelist=nx.read_edgelist('facebook_combined.txt', nodetype=int, create_using=nx.Graph()) \n",
    "pseudocenters = [ 0, 107, 1684, 1912, 3437, 348, 612, 3980, 414, 686, 698 ] \n",
    " \n",
    "edgelist=edgelist.edges \n",
    " \n",
    " \n",
    "def find_impostor(edgelist, pseudocenters): \n",
    "    G=nx.Graph() \n",
    "    G.add_edges_from(edgelist) \n",
    "    for y in pseudocenters: \n",
    "       a= G.copy() \n",
    "       a.remove_node(y) \n",
    "       count=nx.number_connected_components(a) \n",
    "       if count== 1: \n",
    "           return y \n",
    " \n",
    " \n",
    "find_impostor(edgelist, pseudocenters)"
   ]
  },
  {
   "cell_type": "code",
   "execution_count": null,
   "metadata": {},
   "outputs": [],
   "source": []
  }
 ],
 "metadata": {
  "kernelspec": {
   "display_name": "Python 3",
   "language": "python",
   "name": "python3"
  },
  "language_info": {
   "codemirror_mode": {
    "name": "ipython",
    "version": 3
   },
   "file_extension": ".py",
   "mimetype": "text/x-python",
   "name": "python",
   "nbconvert_exporter": "python",
   "pygments_lexer": "ipython3",
   "version": "3.7.4"
  }
 },
 "nbformat": 4,
 "nbformat_minor": 2
}
